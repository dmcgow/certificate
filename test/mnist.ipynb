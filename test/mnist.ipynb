{
 "cells": [
  {
   "cell_type": "code",
   "execution_count": 1,
   "id": "f855fc98",
   "metadata": {},
   "outputs": [],
   "source": [
    "import tensorflow as tf\n",
    "import matplotlib.pyplot as plt"
   ]
  },
  {
   "cell_type": "code",
   "execution_count": 2,
   "id": "d1a24bca",
   "metadata": {},
   "outputs": [
    {
     "name": "stdout",
     "output_type": "stream",
     "text": [
      "2.9.2\n"
     ]
    },
    {
     "data": {
      "text/plain": [
       "[PhysicalDevice(name='/physical_device:GPU:0', device_type='GPU')]"
      ]
     },
     "execution_count": 2,
     "metadata": {},
     "output_type": "execute_result"
    }
   ],
   "source": [
    "print(tf.__version__)\n",
    "tf.config.get_visible_devices('GPU')"
   ]
  },
  {
   "cell_type": "code",
   "execution_count": 3,
   "id": "c4915f31",
   "metadata": {},
   "outputs": [],
   "source": [
    "DATASET_SIZE = 60000\n",
    "BATCH_SIZE = 128\n",
    "EPOCH = 1"
   ]
  },
  {
   "cell_type": "code",
   "execution_count": 4,
   "id": "023aed0b",
   "metadata": {},
   "outputs": [
    {
     "name": "stdout",
     "output_type": "stream",
     "text": [
      "Metal device set to: Apple M1 Pro\n",
      "\n",
      "systemMemory: 32.00 GB\n",
      "maxCacheSize: 10.67 GB\n",
      "\n",
      "(28, 28)\n",
      "(28, 28)\n",
      "(28, 28)\n",
      "(28, 28)\n",
      "(28, 28)\n",
      "(28, 28)\n",
      "(28, 28)\n",
      "(28, 28)\n",
      "(28, 28)\n",
      "(28, 28)\n"
     ]
    },
    {
     "name": "stderr",
     "output_type": "stream",
     "text": [
      "2023-07-21 12:23:48.698869: I tensorflow/core/common_runtime/pluggable_device/pluggable_device_factory.cc:305] Could not identify NUMA node of platform GPU ID 0, defaulting to 0. Your kernel may not have been built with NUMA support.\n",
      "2023-07-21 12:23:48.699232: I tensorflow/core/common_runtime/pluggable_device/pluggable_device_factory.cc:271] Created TensorFlow device (/job:localhost/replica:0/task:0/device:GPU:0 with 0 MB memory) -> physical PluggableDevice (device: 0, name: METAL, pci bus id: <undefined>)\n",
      "2023-07-21 12:23:48.770884: W tensorflow/core/platform/profile_utils/cpu_utils.cc:128] Failed to get CPU frequency: 0 Hz\n"
     ]
    }
   ],
   "source": [
    "def preprocess(x, y):\n",
    "    x = 2 * tf.cast(x, dtype=tf.float32) / 255. - 1.\n",
    "    y = tf.cast(y, dtype=tf.int32)\n",
    "    return x, y\n",
    "\n",
    "def load():\n",
    "    (train_data, train_label), (test_data, test_label) = tf.keras.datasets.mnist.load_data()\n",
    "    train_db = tf.data.Dataset.from_tensor_slices((train_data, train_label))\n",
    "    train_db = train_db.map(preprocess).repeat().shuffle(DATASET_SIZE).batch(batch_size=BATCH_SIZE).prefetch(tf.data.experimental.AUTOTUNE)\n",
    "    test_db = tf.data.Dataset.from_tensor_slices((test_data, test_label))\n",
    "    test_db = test_db.map(preprocess).batch(batch_size=BATCH_SIZE)\n",
    "    return train_db, test_db\n",
    "(train_db, test_db) = load()\n",
    "cnt = 0\n",
    "for batch in test_db:\n",
    "    if cnt >= 10:\n",
    "        break\n",
    "    image = batch[0][0].numpy()\n",
    "    label = batch[1][0].numpy()\n",
    "    print(image.shape)\n",
    "    # plt.imshow(image)\n",
    "    # plt.title('index: ' + str(cnt) + ' | label: ' + str(label))\n",
    "    # plt.show()\n",
    "    cnt = cnt + 1"
   ]
  },
  {
   "cell_type": "code",
   "execution_count": 5,
   "id": "ccce65d1",
   "metadata": {},
   "outputs": [
    {
     "name": "stdout",
     "output_type": "stream",
     "text": [
      "Model: \"sequential\"\n",
      "_________________________________________________________________\n",
      " Layer (type)                Output Shape              Param #   \n",
      "=================================================================\n",
      " conv2d (Conv2D)             (None, 28, 28, 32)        320       \n",
      "                                                                 \n",
      " batch_normalization (BatchN  (None, 28, 28, 32)       128       \n",
      " ormalization)                                                   \n",
      "                                                                 \n",
      " re_lu (ReLU)                (None, 28, 28, 32)        0         \n",
      "                                                                 \n",
      " max_pooling2d (MaxPooling2D  (None, 14, 14, 32)       0         \n",
      " )                                                               \n",
      "                                                                 \n",
      " conv2d_1 (Conv2D)           (None, 14, 14, 64)        18496     \n",
      "                                                                 \n",
      " batch_normalization_1 (Batc  (None, 14, 14, 64)       256       \n",
      " hNormalization)                                                 \n",
      "                                                                 \n",
      " re_lu_1 (ReLU)              (None, 14, 14, 64)        0         \n",
      "                                                                 \n",
      " max_pooling2d_1 (MaxPooling  (None, 7, 7, 64)         0         \n",
      " 2D)                                                             \n",
      "                                                                 \n",
      " conv2d_2 (Conv2D)           (None, 7, 7, 128)         73856     \n",
      "                                                                 \n",
      " batch_normalization_2 (Batc  (None, 7, 7, 128)        512       \n",
      " hNormalization)                                                 \n",
      "                                                                 \n",
      " re_lu_2 (ReLU)              (None, 7, 7, 128)         0         \n",
      "                                                                 \n",
      " global_average_pooling2d (G  (None, 128)              0         \n",
      " lobalAveragePooling2D)                                          \n",
      "                                                                 \n",
      " dense (Dense)               (None, 64)                8256      \n",
      "                                                                 \n",
      " batch_normalization_3 (Batc  (None, 64)               256       \n",
      " hNormalization)                                                 \n",
      "                                                                 \n",
      " re_lu_3 (ReLU)              (None, 64)                0         \n",
      "                                                                 \n",
      " dense_1 (Dense)             (None, 10)                650       \n",
      "                                                                 \n",
      "=================================================================\n",
      "Total params: 102,730\n",
      "Trainable params: 102,154\n",
      "Non-trainable params: 576\n",
      "_________________________________________________________________\n"
     ]
    }
   ],
   "source": [
    "network = tf.keras.Sequential()\n",
    "network.add(tf.keras.layers.Conv2D(32,3,input_shape=[28,28,1],padding='same'))#[28,28,32]\n",
    "network.add(tf.keras.layers.BatchNormalization())\n",
    "network.add(tf.keras.layers.ReLU())\n",
    "network.add(tf.keras.layers.MaxPooling2D())#[14,14,64]\n",
    "network.add(tf.keras.layers.Conv2D(64,3,padding='same'))#[14,14,64]\n",
    "network.add(tf.keras.layers.BatchNormalization())\n",
    "network.add(tf.keras.layers.ReLU())\n",
    "network.add(tf.keras.layers.MaxPooling2D())#[7,7,127]\n",
    "network.add(tf.keras.layers.Conv2D(128,3,padding='same'))#[7,7,128]\n",
    "network.add(tf.keras.layers.BatchNormalization())\n",
    "network.add(tf.keras.layers.ReLU())\n",
    "network.add(tf.keras.layers.GlobalAveragePooling2D())\n",
    "network.add(tf.keras.layers.Dense(64))\n",
    "network.add(tf.keras.layers.BatchNormalization())\n",
    "network.add(tf.keras.layers.ReLU())\n",
    "network.add(tf.keras.layers.Dense(10,activation='softmax'))\n",
    "network.build(input_shape=[None, 28, 28, 1])\n",
    "network.summary()\n",
    "optimizer = tf.keras.optimizers.Adam()\n",
    "loss = tf.keras.losses.SparseCategoricalCrossentropy()\n",
    "metrics = tf.keras.metrics.SparseCategoricalAccuracy()\n",
    "network.compile(optimizer=optimizer,\n",
    "              loss=loss,\n",
    "              metrics=[metrics])"
   ]
  },
  {
   "cell_type": "code",
   "execution_count": 6,
   "id": "b60083f0",
   "metadata": {},
   "outputs": [
    {
     "name": "stderr",
     "output_type": "stream",
     "text": [
      "2023-07-21 12:23:49.442541: I tensorflow/core/grappler/optimizers/custom_graph_optimizer_registry.cc:113] Plugin optimizer for device_type GPU is enabled.\n"
     ]
    },
    {
     "name": "stdout",
     "output_type": "stream",
     "text": [
      "467/468 [============================>.] - ETA: 0s - loss: 0.1783 - sparse_categorical_accuracy: 0.9596"
     ]
    },
    {
     "name": "stderr",
     "output_type": "stream",
     "text": [
      "2023-07-21 12:23:59.694977: I tensorflow/core/grappler/optimizers/custom_graph_optimizer_registry.cc:113] Plugin optimizer for device_type GPU is enabled.\n"
     ]
    },
    {
     "name": "stdout",
     "output_type": "stream",
     "text": [
      "468/468 [==============================] - 11s 21ms/step - loss: 0.1780 - sparse_categorical_accuracy: 0.9597 - val_loss: 1.1747 - val_sparse_categorical_accuracy: 0.7057\n"
     ]
    }
   ],
   "source": [
    "history = network.fit(train_db, epochs=EPOCH, steps_per_epoch=DATASET_SIZE // BATCH_SIZE, validation_data=test_db)"
   ]
  },
  {
   "cell_type": "code",
   "execution_count": 7,
   "id": "bbb5e76c",
   "metadata": {},
   "outputs": [
    {
     "data": {
      "text/plain": [
       "<matplotlib.legend.Legend at 0x2d9076e50>"
      ]
     },
     "execution_count": 7,
     "metadata": {},
     "output_type": "execute_result"
    },
    {
     "data": {
      "image/png": "[encoded data removed]",
      "text/plain": [
       "<Figure size 640x480 with 1 Axes>"
      ]
     },
     "metadata": {},
     "output_type": "display_data"
    },
    {
     "data": {
      "image/png": "[encoded data removed]",
      "text/plain": [
       "<Figure size 640x480 with 1 Axes>"
      ]
     },
     "metadata": {},
     "output_type": "display_data"
    }
   ],
   "source": [
    "history_acc = history.history['sparse_categorical_accuracy']\n",
    "history_val_acc = history.history['val_sparse_categorical_accuracy']\n",
    "history_loss = history.history['loss']\n",
    "history_val_loss = history.history['val_loss']\n",
    "\n",
    "plt.figure()\n",
    "plt.plot(history_acc, label='Training Accuracy')\n",
    "plt.plot(history_val_acc, label='Validation Accuracy')\n",
    "plt.title('Training and Validation Accuracy')\n",
    "plt.legend()\n",
    "\n",
    "plt.figure()\n",
    "plt.plot(history_loss, label='Training Loss')\n",
    "plt.plot(history_val_loss, label='Validation Loss')\n",
    "plt.title('Training and Validation Loss')\n",
    "plt.legend()"
   ]
  },
  {
   "cell_type": "code",
   "execution_count": 8,
   "id": "9b59df2d",
   "metadata": {},
   "outputs": [
    {
     "name": "stdout",
     "output_type": "stream",
     "text": [
      "79/79 [==============================] - 1s 9ms/step - loss: 1.1747 - sparse_categorical_accuracy: 0.7057\n"
     ]
    },
    {
     "data": {
      "text/plain": [
       "[1.1746760606765747, 0.7056999802589417]"
      ]
     },
     "execution_count": 8,
     "metadata": {},
     "output_type": "execute_result"
    }
   ],
   "source": [
    "network.evaluate(test_db, batch_size=BATCH_SIZE)"
   ]
  },
  {
   "cell_type": "code",
   "execution_count": 9,
   "id": "74bf6464",
   "metadata": {},
   "outputs": [],
   "source": [
    "\n",
    "network.save(r'./CNN.h5')"
   ]
  },
  {
   "cell_type": "code",
   "execution_count": 10,
   "id": "3f3db4b8",
   "metadata": {},
   "outputs": [
    {
     "name": "stdout",
     "output_type": "stream",
     "text": [
      "23/79 [=======>......................] - ETA: 0s"
     ]
    },
    {
     "name": "stderr",
     "output_type": "stream",
     "text": [
      "2023-07-21 12:24:01.637000: I tensorflow/core/grappler/optimizers/custom_graph_optimizer_registry.cc:113] Plugin optimizer for device_type GPU is enabled.\n"
     ]
    },
    {
     "name": "stdout",
     "output_type": "stream",
     "text": [
      "79/79 [==============================] - 1s 6ms/step\n",
      "[7 2 1 ... 4 5 6]\n"
     ]
    }
   ],
   "source": [
    "import numpy as np\n",
    "pred_y = network.predict(test_db)\n",
    "result = np.argmax(pred_y, axis=1)\n",
    "print(result)"
   ]
  },
  {
   "cell_type": "code",
   "execution_count": null,
   "id": "8efe7d5a",
   "metadata": {},
   "outputs": [],
   "source": []
  }
 ],
 "metadata": {
  "kernelspec": {
   "display_name": "Python 3 (ipykernel)",
   "language": "python",
   "name": "python3"
  },
  "language_info": {
   "codemirror_mode": {
    "name": "ipython",
    "version": 3
   },
   "file_extension": ".py",
   "mimetype": "text/x-python",
   "name": "python",
   "nbconvert_exporter": "python",
   "pygments_lexer": "ipython3",
   "version": "3.9.13"
  }
 },
 "nbformat": 4,
 "nbformat_minor": 5
}
